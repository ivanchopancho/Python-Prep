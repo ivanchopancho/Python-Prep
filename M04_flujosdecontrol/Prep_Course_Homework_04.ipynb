{
 "cells": [
  {
   "attachments": {},
   "cell_type": "markdown",
   "metadata": {},
   "source": [
    "## Flujos de Control"
   ]
  },
  {
   "attachments": {},
   "cell_type": "markdown",
   "metadata": {},
   "source": [
    "1) Crear una variable que contenga un elemento del conjunto de números enteros y luego imprimir por pantalla si es mayor o menor a cero"
   ]
  },
  {
   "cell_type": "code",
   "execution_count": 1,
   "metadata": {},
   "outputs": [
    {
     "name": "stdout",
     "output_type": "stream",
     "text": [
      "Es positivo, o mayor que 0\n"
     ]
    }
   ],
   "source": [
    "a = 33\n",
    "if a>0:\n",
    "    print(\"Es positivo, o mayor que 0\")\n",
    "else:\n",
    "    print(\"Es negativo o menor que 0\")"
   ]
  },
  {
   "attachments": {},
   "cell_type": "markdown",
   "metadata": {},
   "source": [
    "2) Crear dos variables y un condicional que informe si son del mismo tipo de dato"
   ]
  },
  {
   "cell_type": "code",
   "execution_count": 2,
   "metadata": {},
   "outputs": [
    {
     "name": "stdout",
     "output_type": "stream",
     "text": [
      "los datos ingresados son de tipo distinto\n"
     ]
    }
   ],
   "source": [
    "nombre=\"Pedro Perez Paulista\"\n",
    "edad= 42\n",
    "if type(edad)==type(nombre):\n",
    "    print(\"ambos datos son del mismo tipo\")\n",
    "else:\n",
    "    print(\"los datos ingresados son de tipo distinto\")\n",
    "    "
   ]
  },
  {
   "attachments": {},
   "cell_type": "markdown",
   "metadata": {},
   "source": [
    "3) Para los valores enteros del 1 al 20, imprimir por pantalla si es par o impar"
   ]
  },
  {
   "cell_type": "code",
   "execution_count": 6,
   "metadata": {},
   "outputs": [
    {
     "name": "stdout",
     "output_type": "stream",
     "text": [
      "el numero 1 es impar\n",
      "el numero 2 es par\n",
      "el numero 3 es impar\n",
      "el numero 4 es par\n",
      "el numero 5 es impar\n",
      "el numero 6 es par\n",
      "el numero 7 es impar\n",
      "el numero 8 es par\n",
      "el numero 9 es impar\n",
      "el numero 10 es par\n",
      "el numero 11 es impar\n",
      "el numero 12 es par\n",
      "el numero 13 es impar\n",
      "el numero 14 es par\n",
      "el numero 15 es impar\n",
      "el numero 16 es par\n",
      "el numero 17 es impar\n",
      "el numero 18 es par\n",
      "el numero 19 es impar\n"
     ]
    }
   ],
   "source": [
    "for item in range(1,20):\n",
    "    if item%2 == 0:\n",
    "        print(\"el numero \" + str(item) + \" es par\")\n",
    "    else:\n",
    "        print(\"el numero \" + str(item) + \" es impar\")"
   ]
  },
  {
   "attachments": {},
   "cell_type": "markdown",
   "metadata": {},
   "source": [
    "4) En un ciclo for mostrar para los valores entre 0 y 5 el resultado de elevarlo a la potencia igual a 3"
   ]
  },
  {
   "cell_type": "code",
   "execution_count": 9,
   "metadata": {},
   "outputs": [
    {
     "name": "stdout",
     "output_type": "stream",
     "text": [
      "0\n",
      "1\n",
      "8\n",
      "27\n",
      "64\n",
      "125\n"
     ]
    }
   ],
   "source": [
    "for item in range(0,6):\n",
    "    print(item**3)"
   ]
  },
  {
   "attachments": {},
   "cell_type": "markdown",
   "metadata": {},
   "source": [
    "5) Crear una variable que contenga un número entero y realizar un ciclo for la misma cantidad de ciclos"
   ]
  },
  {
   "cell_type": "code",
   "execution_count": 10,
   "metadata": {},
   "outputs": [
    {
     "name": "stdout",
     "output_type": "stream",
     "text": [
      "0\n",
      "1\n",
      "2\n",
      "3\n",
      "4\n",
      "5\n",
      "6\n",
      "7\n",
      "8\n",
      "9\n"
     ]
    }
   ],
   "source": [
    "n=10\n",
    "for item in range(n):\n",
    "    print(item)"
   ]
  },
  {
   "attachments": {},
   "cell_type": "markdown",
   "metadata": {},
   "source": [
    "6) Utilizar un ciclo while para realizar el factorial de un número guardado en una variable, sólo si la variable contiene un número entero mayor a 0"
   ]
  },
  {
   "cell_type": "code",
   "execution_count": 1,
   "metadata": {},
   "outputs": [
    {
     "name": "stdout",
     "output_type": "stream",
     "text": [
      "El factorial es 120\n"
     ]
    }
   ],
   "source": [
    "numero= 5\n",
    "\n",
    "numero = 5\n",
    "if (type(numero) == int):\n",
    "    if (numero > 0):\n",
    "        factorial = numero\n",
    "        while (numero > 2):\n",
    "            numero = numero - 1\n",
    "            factorial = factorial * numero\n",
    "        print('El factorial es', factorial)\n",
    "    else:\n",
    "        print('La variable no es mayor a cero')\n",
    "else:\n",
    "    print('La variable no es un entero')\n",
    "\n",
    "\n",
    "      "
   ]
  },
  {
   "attachments": {},
   "cell_type": "markdown",
   "metadata": {},
   "source": [
    "7) Crear un ciclo for dentro de un ciclo while"
   ]
  },
  {
   "cell_type": "code",
   "execution_count": 8,
   "metadata": {},
   "outputs": [
    {
     "name": "stdout",
     "output_type": "stream",
     "text": [
      "estoy contando en ciclos de 10, voy por el ciclo numero  10\n",
      "10\n",
      "9\n",
      "8\n",
      "7\n",
      "6\n",
      "5\n",
      "4\n",
      "3\n",
      "2\n",
      "1\n",
      "estoy contando en ciclos de 10, voy por el ciclo numero  9\n",
      "10\n",
      "9\n",
      "8\n",
      "7\n",
      "6\n",
      "5\n",
      "4\n",
      "3\n",
      "2\n",
      "1\n",
      "estoy contando en ciclos de 10, voy por el ciclo numero  8\n",
      "10\n",
      "9\n",
      "8\n",
      "7\n",
      "6\n",
      "5\n",
      "4\n",
      "3\n",
      "2\n",
      "1\n",
      "estoy contando en ciclos de 10, voy por el ciclo numero  7\n",
      "10\n",
      "9\n",
      "8\n",
      "7\n",
      "6\n",
      "5\n",
      "4\n",
      "3\n",
      "2\n",
      "1\n",
      "estoy contando en ciclos de 10, voy por el ciclo numero  6\n",
      "10\n",
      "9\n",
      "8\n",
      "7\n",
      "6\n",
      "5\n",
      "4\n",
      "3\n",
      "2\n",
      "1\n",
      "estoy contando en ciclos de 10, voy por el ciclo numero  5\n",
      "10\n",
      "9\n",
      "8\n",
      "7\n",
      "6\n",
      "5\n",
      "4\n",
      "3\n",
      "2\n",
      "1\n",
      "estoy contando en ciclos de 10, voy por el ciclo numero  4\n",
      "10\n",
      "9\n",
      "8\n",
      "7\n",
      "6\n",
      "5\n",
      "4\n",
      "3\n",
      "2\n",
      "1\n",
      "estoy contando en ciclos de 10, voy por el ciclo numero  3\n",
      "10\n",
      "9\n",
      "8\n",
      "7\n",
      "6\n",
      "5\n",
      "4\n",
      "3\n",
      "2\n",
      "1\n",
      "estoy contando en ciclos de 10, voy por el ciclo numero  2\n",
      "10\n",
      "9\n",
      "8\n",
      "7\n",
      "6\n",
      "5\n",
      "4\n",
      "3\n",
      "2\n",
      "1\n",
      "estoy contando en ciclos de 10, voy por el ciclo numero  1\n",
      "10\n",
      "9\n",
      "8\n",
      "7\n",
      "6\n",
      "5\n",
      "4\n",
      "3\n",
      "2\n",
      "1\n",
      "los ciclos han terminado\n"
     ]
    }
   ],
   "source": [
    "condicion = 10\n",
    "while condicion > 0:\n",
    "    print('estoy contando en ciclos de 10, voy por el ciclo numero ', condicion)\n",
    "    condicion -= 1\n",
    "    for i in range(10,0,-1):\n",
    "        print(i)\n",
    "\n",
    "print('los ciclos han terminado')"
   ]
  },
  {
   "attachments": {},
   "cell_type": "markdown",
   "metadata": {},
   "source": [
    "8) Crear un ciclo while dentro de un ciclo for"
   ]
  },
  {
   "cell_type": "code",
   "execution_count": 9,
   "metadata": {},
   "outputs": [
    {
     "name": "stdout",
     "output_type": "stream",
     "text": [
      "contando en 10 ciclos de 5, el ciclo actual es  1\n",
      "1\n",
      "2\n",
      "3\n",
      "4\n",
      "5\n",
      "contando en 10 ciclos de 5, el ciclo actual es  2\n",
      "1\n",
      "2\n",
      "3\n",
      "4\n",
      "5\n",
      "contando en 10 ciclos de 5, el ciclo actual es  3\n",
      "1\n",
      "2\n",
      "3\n",
      "4\n",
      "5\n",
      "contando en 10 ciclos de 5, el ciclo actual es  4\n",
      "1\n",
      "2\n",
      "3\n",
      "4\n",
      "5\n",
      "contando en 10 ciclos de 5, el ciclo actual es  5\n",
      "1\n",
      "2\n",
      "3\n",
      "4\n",
      "5\n",
      "contando en 10 ciclos de 5, el ciclo actual es  6\n",
      "1\n",
      "2\n",
      "3\n",
      "4\n",
      "5\n",
      "contando en 10 ciclos de 5, el ciclo actual es  7\n",
      "1\n",
      "2\n",
      "3\n",
      "4\n",
      "5\n",
      "contando en 10 ciclos de 5, el ciclo actual es  8\n",
      "1\n",
      "2\n",
      "3\n",
      "4\n",
      "5\n",
      "contando en 10 ciclos de 5, el ciclo actual es  9\n",
      "1\n",
      "2\n",
      "3\n",
      "4\n",
      "5\n",
      "contando en 10 ciclos de 5, el ciclo actual es  10\n",
      "1\n",
      "2\n",
      "3\n",
      "4\n",
      "5\n"
     ]
    }
   ],
   "source": [
    "for i in range(1,11):\n",
    "    print('contando en 10 ciclos de 5, el ciclo actual es ', i)\n",
    "    cicle_stopper = 5\n",
    "    for i in range(1,6):\n",
    "        print(i)\n",
    "        while cicle_stopper < 0:\n",
    "            print(cicle_stopper)\n",
    "            cicle_stopper-1\n",
    "\n",
    "\n",
    "\n",
    "        \n",
    "\n"
   ]
  },
  {
   "cell_type": "code",
   "execution_count": null,
   "metadata": {},
   "outputs": [],
   "source": []
  },
  {
   "attachments": {},
   "cell_type": "markdown",
   "metadata": {},
   "source": [
    "9) Imprimir los números primos existentes entre 0 y 30"
   ]
  },
  {
   "cell_type": "code",
   "execution_count": 85,
   "metadata": {},
   "outputs": [
    {
     "name": "stdout",
     "output_type": "stream",
     "text": [
      "lista de numeros [0, 1, 2, 3, 4, 5, 6, 7, 8, 9, 10, 11, 12, 13, 14, 15, 16, 17, 18, 19, 20, 21, 22, 23, 24, 25, 26, 27, 28, 29, 30]\n",
      "lista de bools [True, True, True, True, True, True, True, True, True, True, True, True, True, True, True, True, True, True, True, True, True, True, True, True, True, True, True, True, True, True, True]\n",
      "lista de bools primos [True, True, True, False, True, False, True, False, False, False, True, False, True, False, False, False, True, False, True, False, False, False, True, False, False, False, False, False, True, False]\n",
      "1\n",
      "2\n",
      "3\n",
      "5\n",
      "7\n",
      "11\n",
      "13\n",
      "17\n",
      "19\n",
      "23\n",
      "29\n"
     ]
    },
    {
     "ename": "IndexError",
     "evalue": "list index out of range",
     "output_type": "error",
     "traceback": [
      "\u001b[1;31m---------------------------------------------------------------------------\u001b[0m",
      "\u001b[1;31mIndexError\u001b[0m                                Traceback (most recent call last)",
      "Cell \u001b[1;32mIn[85], line 39\u001b[0m\n\u001b[0;32m     35\u001b[0m \u001b[38;5;28mprint\u001b[39m(\u001b[38;5;124m\"\u001b[39m\u001b[38;5;124mlista de bools primos\u001b[39m\u001b[38;5;124m\"\u001b[39m, bool_lista)\n\u001b[0;32m     38\u001b[0m \u001b[38;5;28;01mfor\u001b[39;00m i \u001b[38;5;129;01min\u001b[39;00m \u001b[38;5;28mrange\u001b[39m(\u001b[38;5;241m31\u001b[39m):\n\u001b[1;32m---> 39\u001b[0m     number\u001b[38;5;241m=\u001b[39m\u001b[43mnum_lista\u001b[49m\u001b[43m[\u001b[49m\u001b[43mi\u001b[49m\u001b[43m]\u001b[49m\n\u001b[0;32m     40\u001b[0m     value\u001b[38;5;241m=\u001b[39mbool_lista[i]\n\u001b[0;32m     41\u001b[0m     \u001b[38;5;28;01mif\u001b[39;00m (value \u001b[38;5;241m==\u001b[39m \u001b[38;5;28;01mTrue\u001b[39;00m):\n",
      "\u001b[1;31mIndexError\u001b[0m: list index out of range"
     ]
    }
   ],
   "source": [
    "\n",
    "\n",
    "\"\"\" final=30\n",
    "\n",
    "primo= [True for i in range(final+1)]\n",
    "print(\"lista prueba\", primo)\n",
    "primer_primo=2\n",
    "\n",
    "while (primer_primo*primer_primo <= final):\n",
    "    if (primo[primer_primo] == True):\n",
    "        for i in range(primer_primo*primer_primo, final+1, primer_primo):\n",
    "            primo[i] = False \n",
    "    primer_primo += 1\n",
    "\n",
    "\n",
    "print(primo) \"\"\"\n",
    "\n",
    "\n",
    "\n",
    "\n",
    "final = 30\n",
    "num_lista = [i for i in range(final+1)]\n",
    "print(\"lista de numeros\", num_lista)\n",
    "\n",
    "bool_lista = [True for i in num_lista]\n",
    "print(\"lista de bools\", bool_lista)\n",
    "\n",
    "primer_primo = 2\n",
    "while (primer_primo**2 <= final):\n",
    "    if(bool_lista[primer_primo] == True):\n",
    "        for i in range(primer_primo**2, final+1, primer_primo):\n",
    "            bool_lista[i] = False\n",
    "    primer_primo += 1\n",
    "bool_lista.pop(0)\n",
    "num_lista.pop(0)\n",
    "\n",
    "print(\"lista de bools primos\", bool_lista)\n",
    "\n",
    "\n",
    "for i in range(31):\n",
    "    number=num_lista[i]\n",
    "    value=bool_lista[i]\n",
    "    if (value == True):\n",
    "        print(number)\n",
    "\n",
    "    \n"
   ]
  },
  {
   "attachments": {},
   "cell_type": "markdown",
   "metadata": {},
   "source": [
    "10) ¿Se puede mejorar el proceso del punto 9? Utilizar las sentencias break y/ó continue para tal fin"
   ]
  },
  {
   "cell_type": "code",
   "execution_count": 72,
   "metadata": {},
   "outputs": [
    {
     "name": "stdout",
     "output_type": "stream",
     "text": [
      "0\n",
      "1\n",
      "2\n",
      "3\n",
      "5\n",
      "7\n",
      "11\n",
      "13\n",
      "17\n",
      "19\n",
      "23\n",
      "29\n"
     ]
    }
   ],
   "source": [
    "tope_rango = 30\n",
    "n = 0\n",
    "primo = True\n",
    "while (n < tope_rango):\n",
    "    for div in range(2, n):\n",
    "        if (n % div == 0):\n",
    "            primo = False\n",
    "            break\n",
    "    if (primo):\n",
    "        print(n)\n",
    "    else:\n",
    "        primo = True\n",
    "    n += 1\n"
   ]
  },
  {
   "attachments": {},
   "cell_type": "markdown",
   "metadata": {},
   "source": [
    "11) En los puntos 9 y 10, se diseño un código que encuentra números primos y además se lo optimizó. ¿Es posible saber en qué medida se optimizó?"
   ]
  },
  {
   "cell_type": "code",
   "execution_count": null,
   "metadata": {},
   "outputs": [],
   "source": [
    "ciclos_sin_break = 0\n",
    "n = 0\n",
    "primo = True\n",
    "while (n < tope_rango):\n",
    "    for div in range(2, n):\n",
    "        ciclos_sin_break += 1\n",
    "        if (n % div == 0):\n",
    "            primo = False\n",
    "    if (primo):\n",
    "        print(n)\n",
    "    else:\n",
    "        primo = True\n",
    "    n += 1\n",
    "print('Cantidad de ciclos: ' + str(ciclos_sin_break))\n",
    "\n",
    "ciclos_con_break = 0\n",
    "n = 0\n",
    "primo = True\n",
    "while (n < tope_rango):\n",
    "    for div in range(2, n):\n",
    "        ciclos_con_break += 1\n",
    "        if (n % div == 0):\n",
    "            primo = False\n",
    "            break\n",
    "    if (primo):\n",
    "        print(n)\n",
    "    else:\n",
    "        primo = True\n",
    "    n += 1\n",
    "print('Cantidad de ciclos: ' + str(ciclos_con_break))\n",
    "print('Se optimizó a un ' + str(ciclos_con_break/ciclos_sin_break) + '% de ciclos aplicando break')"
   ]
  },
  {
   "attachments": {},
   "cell_type": "markdown",
   "metadata": {},
   "source": [
    "12) Aplicando continue, armar un ciclo while que solo imprima los valores divisibles por 12, dentro del rango de números de 100 a 300"
   ]
  },
  {
   "cell_type": "code",
   "execution_count": 90,
   "metadata": {},
   "outputs": [
    {
     "name": "stdout",
     "output_type": "stream",
     "text": [
      "108  es divisible por 12\n",
      "120  es divisible por 12\n",
      "132  es divisible por 12\n",
      "144  es divisible por 12\n",
      "156  es divisible por 12\n",
      "168  es divisible por 12\n",
      "180  es divisible por 12\n",
      "192  es divisible por 12\n",
      "204  es divisible por 12\n",
      "216  es divisible por 12\n",
      "228  es divisible por 12\n",
      "240  es divisible por 12\n",
      "252  es divisible por 12\n",
      "264  es divisible por 12\n",
      "276  es divisible por 12\n",
      "288  es divisible por 12\n",
      "300  es divisible por 12\n"
     ]
    }
   ],
   "source": [
    "for i in range(100,301):\n",
    "    if (i % 12 != 0):\n",
    "        continue\n",
    "    print(i, \" es divisible por 12\")"
   ]
  },
  {
   "attachments": {},
   "cell_type": "markdown",
   "metadata": {},
   "source": [
    "13) Utilizar la función **input()** que permite hacer ingresos por teclado, para encontrar números primos y dar la opción al usario de buscar el siguiente"
   ]
  },
  {
   "cell_type": "code",
   "execution_count": null,
   "metadata": {},
   "outputs": [],
   "source": []
  },
  {
   "attachments": {},
   "cell_type": "markdown",
   "metadata": {},
   "source": [
    "14) Crear un ciclo while que encuentre dentro del rango de 100 a 300 el primer número divisible por 3 y además múltiplo de 6"
   ]
  },
  {
   "cell_type": "code",
   "execution_count": 2,
   "metadata": {},
   "outputs": [
    {
     "name": "stdout",
     "output_type": "stream",
     "text": [
      "el numero divisible por 3 y mutiplo de 6 es; 102\n"
     ]
    }
   ],
   "source": [
    "for i in range(100, 301):\n",
    "    if (i % 6 == 0):\n",
    "        print(\"el numero divisible por 3 y mutiplo de 6 es;\", i)\n",
    "        break\n",
    "\n",
    "\n"
   ]
  }
 ],
 "metadata": {
  "interpreter": {
   "hash": "c85384e4cb51c8b72350f3a8712cc8351fdc3955e32a27f9b60c6242ab125f01"
  },
  "kernelspec": {
   "display_name": "Python 3 (ipykernel)",
   "language": "python",
   "name": "python3"
  },
  "language_info": {
   "codemirror_mode": {
    "name": "ipython",
    "version": 3
   },
   "file_extension": ".py",
   "mimetype": "text/x-python",
   "name": "python",
   "nbconvert_exporter": "python",
   "pygments_lexer": "ipython3",
   "version": "3.12.1"
  }
 },
 "nbformat": 4,
 "nbformat_minor": 4
}
