{
 "cells": [
  {
   "attachments": {},
   "cell_type": "markdown",
   "metadata": {},
   "source": [
    "## Funciones"
   ]
  },
  {
   "attachments": {},
   "cell_type": "markdown",
   "metadata": {},
   "source": [
    "1) Crear una función que reciba un número como parámetro y devuelva True si es primo y False si no lo es"
   ]
  },
  {
   "cell_type": "code",
   "execution_count": 7,
   "metadata": {},
   "outputs": [
    {
     "data": {
      "text/plain": [
       "True"
      ]
     },
     "execution_count": 7,
     "metadata": {},
     "output_type": "execute_result"
    }
   ],
   "source": [
    "def es_primo(n):\n",
    "    resultado = True\n",
    "    if n < 2:\n",
    "        resultado = False\n",
    "    i = 2\n",
    "    while i*i <= n:\n",
    "        if n % i == 0:\n",
    "            resultado = False\n",
    "        i += 1\n",
    "    return resultado\n",
    "\n",
    "es_primo(11)\n",
    "\n",
    "    "
   ]
  },
  {
   "attachments": {},
   "cell_type": "markdown",
   "metadata": {},
   "source": [
    "2) Utilizando la función del punto 1, realizar otra función que reciba de parámetro una lista de números y devuelva sólo aquellos que son primos en otra lista"
   ]
  },
  {
   "cell_type": "code",
   "execution_count": 11,
   "metadata": {},
   "outputs": [
    {
     "data": {
      "text/plain": [
       "[3, 17]"
      ]
     },
     "execution_count": 11,
     "metadata": {},
     "output_type": "execute_result"
    }
   ],
   "source": [
    "def es_primo_lista(lista):\n",
    "    lista_final = []\n",
    "    for i in lista:\n",
    "        if es_primo(i):\n",
    "            lista_final.append(i)\n",
    "    \n",
    "    return lista_final\n",
    "\n",
    "\n",
    "es_primo_lista([1, 3, 17, 4, 8, 9, 22, 6])\n"
   ]
  },
  {
   "attachments": {},
   "cell_type": "markdown",
   "metadata": {},
   "source": [
    "3) Crear una función que al recibir una lista de números, devuelva el que más se repite y cuántas veces lo hace. Si hay más de un \"más repetido\", que devuelva cualquiera"
   ]
  },
  {
   "cell_type": "code",
   "execution_count": 25,
   "metadata": {},
   "outputs": [
    {
     "name": "stdout",
     "output_type": "stream",
     "text": [
      "2\n",
      "3\n",
      "3\n",
      "3\n",
      "2\n",
      "2\n",
      "2\n",
      "2\n",
      "2\n",
      "2\n",
      "2\n",
      "[1, 2, 2, 2, 22, 3, 6, 3, 6, 22, 1]\n"
     ]
    },
    {
     "data": {
      "text/plain": [
       "([1, 2, 3, 6, 22], [65, 5, 9, 10])"
      ]
     },
     "execution_count": 25,
     "metadata": {},
     "output_type": "execute_result"
    }
   ],
   "source": [
    "lista_de_pruebas = [1, 2, 2, 2, 65, 22, 3, 6, 3, 5, 9, 6, 22, 10, 1]\n",
    "\n",
    "def mas_repetido(lista):\n",
    "    copia_lista = lista\n",
    "    repetidos = []\n",
    "    no_repetidos = []\n",
    "    for i in copia_lista:\n",
    "        cantidad = copia_lista.count(i)\n",
    "        if cantidad > 1:\n",
    "            \"\"\" print(f\"el numero {i} se repitio, y debe ser agregado a la lista de repetidos\") \"\"\"\n",
    "            repetidos.append(i)\n",
    "        else:\n",
    "            \"\"\" print(f\"el numero {i} no se repitio y debe ser agregado a la lista de no repetidos\") \"\"\"\n",
    "            no_repetidos.append(i)\n",
    "\n",
    "\n",
    "    for i in repetidos:\n",
    "        cantidad_repetidos = repetidos.count(i)\n",
    "\n",
    "        print(cantidad_repetidos)\n",
    "\n",
    "    print(repetidos)\n",
    "    \n",
    "    repetidos_sin_duplicados = set(repetidos)\n",
    "    repetidos = list(repetidos_sin_duplicados)\n",
    "\n",
    "    return repetidos, no_repetidos\n",
    "\n",
    "mas_repetido(lista_de_pruebas)\n",
    "\n",
    "\n",
    "\n",
    "\n"
   ]
  },
  {
   "attachments": {},
   "cell_type": "markdown",
   "metadata": {},
   "source": [
    "4) Crear una función que convierta entre grados Celsius, Farenheit y Kelvin<br>\n",
    "Fórmula 1\t: (°C × 9/5) + 32 = °F<br>\n",
    "Fórmula 2\t: °C + 273.15 = °K<br>\n",
    "Debe recibir 3 parámetros: el valor, la medida de orígen y la medida de destino\n"
   ]
  },
  {
   "cell_type": "code",
   "execution_count": null,
   "metadata": {},
   "outputs": [],
   "source": []
  },
  {
   "attachments": {},
   "cell_type": "markdown",
   "metadata": {},
   "source": [
    "5) Iterando una lista con los tres valores posibles de temperatura que recibe la función del punto 5, hacer un print para cada combinación de los mismos:"
   ]
  },
  {
   "cell_type": "code",
   "execution_count": null,
   "metadata": {},
   "outputs": [],
   "source": []
  },
  {
   "attachments": {},
   "cell_type": "markdown",
   "metadata": {},
   "source": [
    "6) Armar una función que devuelva el factorial de un número. Tener en cuenta que el usuario puede equivocarse y enviar de parámetro un número no entero o negativo"
   ]
  },
  {
   "cell_type": "code",
   "execution_count": null,
   "metadata": {},
   "outputs": [],
   "source": []
  }
 ],
 "metadata": {
  "interpreter": {
   "hash": "c85384e4cb51c8b72350f3a8712cc8351fdc3955e32a27f9b60c6242ab125f01"
  },
  "kernelspec": {
   "display_name": "Python 3 (ipykernel)",
   "language": "python",
   "name": "python3"
  },
  "language_info": {
   "codemirror_mode": {
    "name": "ipython",
    "version": 3
   },
   "file_extension": ".py",
   "mimetype": "text/x-python",
   "name": "python",
   "nbconvert_exporter": "python",
   "pygments_lexer": "ipython3",
   "version": "3.12.1"
  }
 },
 "nbformat": 4,
 "nbformat_minor": 4
}
