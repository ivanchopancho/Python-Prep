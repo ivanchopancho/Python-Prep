{
 "cells": [
  {
   "attachments": {},
   "cell_type": "markdown",
   "metadata": {},
   "source": [
    "## Clases y Programación Orientada a Objetos"
   ]
  },
  {
   "attachments": {},
   "cell_type": "markdown",
   "metadata": {},
   "source": [
    "1) Crear la clase vehículo que contenga los atributos:<br>\n",
    "Color<br>\n",
    "Si es moto, auto, camioneta ó camión<br>\n",
    "Cilindrada del motor"
   ]
  },
  {
   "cell_type": "code",
   "execution_count": 1,
   "metadata": {},
   "outputs": [],
   "source": [
    "class Vehiculo:\n",
    "    def __init__(self, color, tipo, cilindrada):\n",
    "        self.color = color\n",
    "        self.tipo = tipo\n",
    "        self.cilindrada = cilindrada"
   ]
  },
  {
   "attachments": {},
   "cell_type": "markdown",
   "metadata": {},
   "source": [
    "2) A la clase Vehiculo creada en el punto 1, agregar los siguientes métodos:<br>\n",
    "Acelerar<br>\n",
    "Frenar<br>\n",
    "Doblar<br>"
   ]
  },
  {
   "cell_type": "code",
   "execution_count": 3,
   "metadata": {},
   "outputs": [],
   "source": [
    "class Vehiculo:\n",
    "    def __init__(self, color, tipo, cilindrada):\n",
    "        self.color = color\n",
    "        self.tipo = tipo\n",
    "        self.cilindrada = cilindrada\n",
    "        self.velocidad = 0\n",
    "        self.direccion = 0\n",
    "\n",
    "    def Acelerar(self, vel):\n",
    "        self.velocidad += vel\n",
    "\n",
    "    def Frenar(self, vel):\n",
    "        self.velocidad -= vel\n",
    "\n",
    "    def Doblar(self, dir):\n",
    "        self.direccion += dir"
   ]
  },
  {
   "attachments": {},
   "cell_type": "markdown",
   "metadata": {},
   "source": [
    "3) Instanciar 3 objetos de la clase vehículo y ejecutar sus métodos, probar luego el resultado"
   ]
  },
  {
   "cell_type": "code",
   "execution_count": 4,
   "metadata": {},
   "outputs": [
    {
     "name": "stdout",
     "output_type": "stream",
     "text": [
      "125\n",
      "85\n",
      "2\n",
      "12\n",
      "8\n",
      "12\n",
      "25\n",
      "15\n",
      "6\n"
     ]
    }
   ],
   "source": [
    "primer_vehiculo = Vehiculo('Rojo', 'Moto', 340)\n",
    "segundo_vehiculo = Vehiculo('Amarillo', 'Camioneta', 500)\n",
    "tercer_vehiculo = Vehiculo('Azul', 'Camion', 200)\n",
    "\n",
    "primer_vehiculo.Acelerar(125)\n",
    "print(primer_vehiculo.velocidad)\n",
    "primer_vehiculo.Frenar(40)\n",
    "print(primer_vehiculo.velocidad)\n",
    "primer_vehiculo.Doblar(2)\n",
    "print(primer_vehiculo.direccion)\n",
    "\n",
    "segundo_vehiculo.Acelerar(12)\n",
    "print(segundo_vehiculo.velocidad)\n",
    "segundo_vehiculo.Frenar(4)\n",
    "print(segundo_vehiculo.velocidad)\n",
    "segundo_vehiculo.Doblar(12)\n",
    "print(segundo_vehiculo.direccion)\n",
    "\n",
    "\n",
    "tercer_vehiculo.Acelerar(25)\n",
    "print(tercer_vehiculo.velocidad)\n",
    "tercer_vehiculo.Frenar(10)\n",
    "print(tercer_vehiculo.velocidad)\n",
    "tercer_vehiculo.Doblar(6)\n",
    "print(tercer_vehiculo.direccion)\n",
    "\n",
    "\n",
    "\n"
   ]
  },
  {
   "attachments": {},
   "cell_type": "markdown",
   "metadata": {},
   "source": [
    "4) Agregar a la clase Vehiculo, un método que muestre su estado, es decir, a que velocidad se encuentra y su dirección. Y otro método que muestre color, tipo y cilindrada"
   ]
  },
  {
   "cell_type": "code",
   "execution_count": 7,
   "metadata": {},
   "outputs": [
    {
     "name": "stdout",
     "output_type": "stream",
     "text": [
      "Tipo de vehículo: moto, Color: verde,  Cilindrada: 3 litros\n"
     ]
    }
   ],
   "source": [
    "class Vehiculo:\n",
    "    def __init__(self, color, tipo, cilindrada):\n",
    "        self.color = color\n",
    "        self.tipo = tipo\n",
    "        self.cilindrada = cilindrada\n",
    "        self.velocidad = 0\n",
    "        self.direccion = 0\n",
    "\n",
    "    def Acelerar(self, vel):\n",
    "        self.velocidad += vel\n",
    "\n",
    "    def Frenar(self, vel):\n",
    "        self.velocidad -= vel\n",
    "    \n",
    "    def Doblar(self, dir):\n",
    "        self.direccion += dir\n",
    "\n",
    "    def Estado(self):\n",
    "        print('Velocidad:', self.velocidad, '- Dirección:', self.direccion)\n",
    "\n",
    "    def Detalle(self):\n",
    "        print(f'Tipo de vehículo: {self.tipo}, Color: {self.color},  Cilindrada: {self.cilindrada} litros')\n",
    "\n",
    "\n",
    "automovil = Vehiculo('verde', 'moto', 3)\n",
    "automovil.Detalle()"
   ]
  },
  {
   "attachments": {},
   "cell_type": "markdown",
   "metadata": {},
   "source": [
    "5) Crear una clase que permita utilizar las funciones creadas en la práctica del módulo 7<br>\n",
    "<s>Verificar Primo<br></s>\n",
    "<s>Valor modal</s><br>\n",
    "<s>Conversión grados</s><br>\n",
    "Factorial<br>"
   ]
  },
  {
   "cell_type": "code",
   "execution_count": 25,
   "metadata": {},
   "outputs": [],
   "source": [
    "class Modulo:\n",
    "    def __init__(self, lista):\n",
    "        self.lista = lista\n",
    "\n",
    "\n",
    "    def _es_primo(self, n):\n",
    "        resultado = True\n",
    "        if n < 2:\n",
    "            resultado = False\n",
    "        i = 2\n",
    "        while i*i <= n:\n",
    "            if n % i == 0:\n",
    "                resultado = False\n",
    "            i += 1\n",
    "        return resultado\n",
    "    \n",
    "    def _conversion_grados(self, valor, origen, destino):\n",
    "        if (origen == 'celsius'):\n",
    "            if (destino == 'celsius'):\n",
    "                valor_destino = valor\n",
    "            elif (destino == 'farenheit'):\n",
    "                valor_destino = (valor * 9 / 5) + 32\n",
    "            elif (destino == 'kelvin'):\n",
    "                valor_destino = valor + 273.15\n",
    "            else:\n",
    "                print('Parámetro de Destino incorrecto')\n",
    "        elif (origen == 'farenheit'):\n",
    "            if (destino == 'celsius'):\n",
    "                valor_destino = (valor - 32) * 5 / 9\n",
    "            elif (destino == 'farenheit'):\n",
    "                valor_destino = valor\n",
    "            elif (destino == 'kelvin'):\n",
    "                valor_destino = ((valor - 32) * 5 / 9) + 273.15\n",
    "            else:\n",
    "                print('Parámetro de Destino incorrecto')\n",
    "        elif (origen == 'kelvin'):\n",
    "            if (destino == 'celsius'):\n",
    "                valor_destino = valor - 273.15\n",
    "            elif (destino == 'farenheit'):\n",
    "                valor_destino = ((valor - 273.15) * 9 / 5) + 32\n",
    "            elif (destino == 'kelvin'):\n",
    "                valor_destino = valor\n",
    "            else:\n",
    "                print('Parámetro de Destino incorrecto')\n",
    "        else:\n",
    "            print('Parámetro de Origen incorrecto')\n",
    "        return valor_destino\n",
    "    \n",
    "    def _factorial(self, numero):\n",
    "        if(type(numero) != int):\n",
    "            return 'El numero debe ser un entero'\n",
    "        if(numero < 0):\n",
    "            return 'El numero debe ser positivo'\n",
    "        if (numero > 1):\n",
    "            numero = numero * self._factorial(numero - 1)\n",
    "        return numero\n",
    "\n",
    "    \n",
    "    def es_primo(self):\n",
    "        lista_final = []\n",
    "        for i in self.lista:\n",
    "            if self._es_primo(i):\n",
    "                print(i)\n",
    "                lista_final.append(i)\n",
    "        print(lista_final)\n",
    "        return lista_final\n",
    "    \n",
    "\n",
    "    def mas_repetido(self):\n",
    "        copia_lista = self.lista\n",
    "        repetidos = []\n",
    "        no_repetidos = []\n",
    "        mas_repetidos = []\n",
    "        if len(self.lista) == 0:\n",
    "            return None\n",
    "        for i in copia_lista:\n",
    "            cantidad = copia_lista.count(i)\n",
    "            if cantidad > 1:\n",
    "                \"\"\" print(f\"el numero {i} se repitio, y debe ser agregado a la lista de repetidos\") \"\"\"\n",
    "                repetidos.append(i)\n",
    "            else:\n",
    "                \"\"\" print(f\"el numero {i} no se repitio y debe ser agregado a la lista de no repetidos\") \"\"\"\n",
    "                no_repetidos.append(i)\n",
    "\n",
    "\n",
    "        for i in repetidos:\n",
    "            \"\"\" indice = repetidos.index(i) \"\"\"\n",
    "            mas_repetidos.append(repetidos.count(i))\n",
    "            \"\"\" print(mas_repetidos)\n",
    "            print(f\"el indice del elemento es {indice}\") \"\"\"\n",
    "            moda = max(mas_repetidos)\n",
    "        \n",
    "\n",
    "        \"\"\" print(repetidos) \"\"\"\n",
    "        \n",
    "        repetidos_sin_duplicados = set(repetidos)\n",
    "        repetidos = list(repetidos_sin_duplicados)\n",
    "\n",
    "        return print(f\"Los valores que se repiten son {repetidos} y el/los mas común/es se repite/n {moda} veces\")\n",
    "    \n",
    "\n",
    "    def conversion_grados(self, origen, destino):\n",
    "        for i in self.lista:\n",
    "            print(i, 'grados', origen, 'son', self._conversion_grados(i, origen, destino),'grados',destino)\n",
    "\n",
    "    def factorial(self):\n",
    "        for i in self.lista:\n",
    "            print('El factorial de ', i, 'es', self._factorial(i))\n",
    "\n",
    "    \n",
    "\n",
    "\n",
    "    \n",
    "\n",
    "    \n"
   ]
  },
  {
   "attachments": {},
   "cell_type": "markdown",
   "metadata": {},
   "source": [
    "6) Probar las funciones incorporadas en la clase del punto 5"
   ]
  },
  {
   "cell_type": "code",
   "execution_count": 26,
   "metadata": {},
   "outputs": [
    {
     "name": "stdout",
     "output_type": "stream",
     "text": [
      "1 grados celsius son 33.8 grados farenheit\n",
      "1 grados celsius son 33.8 grados farenheit\n",
      "2 grados celsius son 35.6 grados farenheit\n",
      "5 grados celsius son 41.0 grados farenheit\n",
      "8 grados celsius son 46.4 grados farenheit\n",
      "8 grados celsius son 46.4 grados farenheit\n",
      "9 grados celsius son 48.2 grados farenheit\n",
      "11 grados celsius son 51.8 grados farenheit\n",
      "15 grados celsius son 59.0 grados farenheit\n",
      "16 grados celsius son 60.8 grados farenheit\n",
      "16 grados celsius son 60.8 grados farenheit\n",
      "16 grados celsius son 60.8 grados farenheit\n",
      "18 grados celsius son 64.4 grados farenheit\n",
      "20 grados celsius son 68.0 grados farenheit\n",
      "2\n",
      "5\n",
      "11\n",
      "[2, 5, 11]\n",
      "Los valores que se repiten son [8, 1, 16] y el/los mas común/es se repite/n 3 veces\n",
      "El factorial de  1 es 1\n",
      "El factorial de  1 es 1\n",
      "El factorial de  2 es 2\n",
      "El factorial de  5 es 120\n",
      "El factorial de  8 es 40320\n",
      "El factorial de  8 es 40320\n",
      "El factorial de  9 es 362880\n",
      "El factorial de  11 es 39916800\n",
      "El factorial de  15 es 1307674368000\n",
      "El factorial de  16 es 20922789888000\n",
      "El factorial de  16 es 20922789888000\n",
      "El factorial de  16 es 20922789888000\n",
      "El factorial de  18 es 6402373705728000\n",
      "El factorial de  20 es 2432902008176640000\n"
     ]
    }
   ],
   "source": [
    "prueba = Modulo([1,1,2,5,8,8,9,11,15,16,16,16,18,20])\n",
    "\n",
    "prueba.conversion_grados('celsius', 'farenheit')\n",
    "prueba.es_primo()\n",
    "prueba.mas_repetido()\n",
    "prueba.factorial()\n",
    "\n"
   ]
  },
  {
   "attachments": {},
   "cell_type": "markdown",
   "metadata": {},
   "source": [
    "7) Es necesario que la clase creada en el punto 5 contenga una lista, sobre la cual se apliquen las funciones incorporadas"
   ]
  },
  {
   "cell_type": "code",
   "execution_count": 22,
   "metadata": {},
   "outputs": [
    {
     "data": {
      "text/plain": [
       "[2, 3, 5]"
      ]
     },
     "execution_count": 22,
     "metadata": {},
     "output_type": "execute_result"
    }
   ],
   "source": [
    "prueba2 = Modulo([1,1,2,3,5,6,8,8])\n",
    "prueba2.es_primo()"
   ]
  },
  {
   "attachments": {},
   "cell_type": "markdown",
   "metadata": {},
   "source": [
    "8) Crear un archivo .py aparte y ubicar allí la clase generada en el punto anterior. Luego realizar la importación del módulo y probar alguna de sus funciones"
   ]
  },
  {
   "cell_type": "code",
   "execution_count": 9,
   "metadata": {},
   "outputs": [
    {
     "name": "stdout",
     "output_type": "stream",
     "text": [
      "11 grados celsius son 284.15 grados kelvin\n",
      "2 grados celsius son 275.15 grados kelvin\n",
      "3 grados celsius son 276.15 grados kelvin\n",
      "1 grados celsius son 274.15 grados kelvin\n",
      "7 grados celsius son 280.15 grados kelvin\n",
      "45 grados celsius son 318.15 grados kelvin\n",
      "2 grados celsius son 275.15 grados kelvin\n",
      "11\n",
      "2\n",
      "3\n",
      "7\n",
      "2\n",
      "[11, 2, 3, 7, 2]\n",
      "El factorial de  11 es 39916800\n",
      "El factorial de  2 es 2\n",
      "El factorial de  3 es 6\n",
      "El factorial de  1 es 1\n",
      "El factorial de  7 es 5040\n",
      "El factorial de  45 es 119622220865480194561963161495657715064383733760000000000\n",
      "El factorial de  2 es 2\n",
      "Los valores que se repiten son [2] y el/los mas común/es se repite/n 2 veces\n"
     ]
    }
   ],
   "source": [
    "import oop\n",
    "\n",
    "h = oop.Modulo([11, 2, 3, 1, 7, 45, 2])\n",
    "\n",
    "h.conversion_grados('celsius', 'kelvin')\n",
    "h.es_primo()\n",
    "h.factorial()\n",
    "h.mas_repetido()\n",
    "\n"
   ]
  }
 ],
 "metadata": {
  "interpreter": {
   "hash": "c85384e4cb51c8b72350f3a8712cc8351fdc3955e32a27f9b60c6242ab125f01"
  },
  "kernelspec": {
   "display_name": "Python 3 (ipykernel)",
   "language": "python",
   "name": "python3"
  },
  "language_info": {
   "codemirror_mode": {
    "name": "ipython",
    "version": 3
   },
   "file_extension": ".py",
   "mimetype": "text/x-python",
   "name": "python",
   "nbconvert_exporter": "python",
   "pygments_lexer": "ipython3",
   "version": "3.12.1"
  }
 },
 "nbformat": 4,
 "nbformat_minor": 4
}
